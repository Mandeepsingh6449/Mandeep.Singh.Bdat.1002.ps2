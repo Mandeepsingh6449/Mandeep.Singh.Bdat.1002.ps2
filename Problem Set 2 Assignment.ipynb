{
 "cells": [
  {
   "cell_type": "code",
   "execution_count": 2,
   "id": "59f44a53",
   "metadata": {},
   "outputs": [
    {
     "data": {
      "text/plain": [
       "6"
      ]
     },
     "execution_count": 2,
     "metadata": {},
     "output_type": "execute_result"
    }
   ],
   "source": [
    "from MandeepA import*\n",
    "b()\n",
    "b()\n",
    "b()\n",
    "a"
   ]
  },
  {
   "cell_type": "markdown",
   "id": "8b74cf56",
   "metadata": {},
   "source": [
    "# Question 1\n",
    "Consider the following Python module:\n",
    "a = 0\n",
    "def b():\n",
    " global a\n",
    " a = c(a)\n",
    "def c(a):\n",
    " return a + 2\n",
    "After importing the module into the interpreter, you execute:\n",
    ">>> b()\n",
    ">>> b()\n",
    ">>> b()\n",
    ">>> a\n",
    "?\n",
    "What value is displayed when the last expression (a) is evaluated? Explain your\n",
    "answer by indicating what happens in every executed statement."
   ]
  },
  {
   "cell_type": "markdown",
   "id": "9fa1a861",
   "metadata": {},
   "source": [
    "# Executes First Statement\n",
    "1. Calling b function which contains global variable a=0.\n",
    "2. Now, a is defined c(a) function and calling it.\n",
    "3. In c function, it returns the value of a+2 i.e 0+2=2. \n",
    "4. Therefore, the a is 2."
   ]
  },
  {
   "cell_type": "markdown",
   "id": "b0d56830",
   "metadata": {},
   "source": [
    "# Executes Second Statement\n",
    "1. Again calling b function which contains global variable a, but now the value of a is 2 because of previous calling method.\n",
    "2. After that, c(a) function is called by global variable a.\n",
    "3. c(a) function returns the a + 2 i.e 2+2=4.\n",
    "4. Therefore, the a is 4.\n",
    "\n"
   ]
  },
  {
   "cell_type": "markdown",
   "id": "ce4010a1",
   "metadata": {},
   "source": [
    "# Executes Third Statement\n",
    "1. Again calling b function which contains global variable a, but now the value of a is 4 because of previous calling method.\n",
    "2. After that, c(a) function is called by global variable a.\n",
    "3. c(a) function returns the a + 2 i.e 4+2=6.\n",
    "4. Therefore, the a is 6.\n"
   ]
  },
  {
   "cell_type": "markdown",
   "id": "3116eb44",
   "metadata": {},
   "source": [
    "# Executes Fourth Statement\n",
    "1. print the value of a.\n",
    "2. the output is 6."
   ]
  },
  {
   "cell_type": "markdown",
   "id": "7ba93e15",
   "metadata": {},
   "source": [
    "# Question 2\n",
    "Function fileLength(), given to you, takes the name of a file as input and returns\n",
    "the length of the file:\n",
    ">>> fileLength('midterm.py')\n",
    "284\n",
    ">>> fileLength('idterm.py')\n",
    "Traceback (most recent call last):\n",
    "File \"<pyshell#34>\", line 1, in <module>\n",
    " fileLength('idterm.py')\n",
    "File \"/Users/me/midterm.py\", line 3, in fileLength\n",
    " infile = open(filename)\n",
    "FileNotFoundError: [Errno 2] No such file or directory:\n",
    "'idterm.py'\n",
    "As shown above, if the file cannot be found by the interpreter or if it cannot be read\n",
    "as a text file, an exception will be raised. Modify function fileLength() so that a\n",
    "friendly message is printed instead:\n",
    ">>> fileLength('midterm.py')\n",
    "358\n",
    ">>> fileLength('idterm.py')\n",
    "File idterm.py not found."
   ]
  },
  {
   "cell_type": "code",
   "execution_count": 6,
   "id": "8d4eeb70",
   "metadata": {},
   "outputs": [],
   "source": [
    "def fileLength(filename):\n",
    "    try:\n",
    "        fileopen=open(filename)\n",
    "        content=fileopen.read()\n",
    "        fileopen.close()\n",
    "        print(len(content))\n",
    "    except FileNotFoundError:\n",
    "        print('No such File Exists',format(filename))\n",
    "    "
   ]
  },
  {
   "cell_type": "code",
   "execution_count": 7,
   "id": "11cbbe1b",
   "metadata": {},
   "outputs": [
    {
     "name": "stdout",
     "output_type": "stream",
     "text": [
      "82\n"
     ]
    }
   ],
   "source": [
    "filename= 'midterm.py'\n",
    "fileLength(filename)"
   ]
  },
  {
   "cell_type": "code",
   "execution_count": 8,
   "id": "6be16241",
   "metadata": {},
   "outputs": [
    {
     "name": "stdout",
     "output_type": "stream",
     "text": [
      "No such File Exists idterm.py\n"
     ]
    }
   ],
   "source": [
    "filename='idterm.py'\n",
    "fileLength(filename)"
   ]
  },
  {
   "cell_type": "markdown",
   "id": "7c3a4674",
   "metadata": {},
   "source": [
    "# Question 3\n",
    "Write a class named Marsupial that can be used as shown below:\n",
    ">>> m = Marsupial()\n",
    ">>> m.put_in_pouch('doll')\n",
    ">>> m.put_in_pouch('firetruck')\n",
    ">>> m.put_in_pouch('kitten')\n",
    ">>> m.pouch_contents()\n",
    "['doll', 'firetruck', 'kitten']\n",
    "\n",
    "Now write a class named Kangaroo as a subclass of Marsupial that inherits all the\n",
    "attributes of Marsupial and also:\n",
    "a. extends the Marsupial __init__ constructor to take, as input, the\n",
    "coordinates x and y of the Kangaroo object,\n",
    "b. supports method jump that takes number values dx and dy as input and\n",
    "moves the kangaroo by dx units along the x-axis and by dy units along the yaxis, and\n",
    "c. overloads the __str__ operator so it behaves as shown below.\n",
    ">>> k = Kangaroo(0,0)\n",
    ">>> print(k)\n",
    "I am a Kangaroo located at coordinates (0,0)\n",
    ">>> k.put_in_pouch('doll')\n",
    ">>> k.put_in_pouch('firetruck')\n",
    ">>> k.put_in_pouch('kitten')\n",
    ">>> k.pouch_contents()\n",
    "['doll', 'firetruck', 'kitten']\n",
    ">>> k.jump(1,0)\n",
    ">>> k.jump(1,0)\n",
    ">>> k.jump(1,0)\n",
    ">>> print(k)\n",
    "I am a Kangaroo located at coordinates (3,0)"
   ]
  },
  {
   "cell_type": "code",
   "execution_count": 12,
   "id": "b7b00a24",
   "metadata": {},
   "outputs": [
    {
     "name": "stdout",
     "output_type": "stream",
     "text": [
      "['doll', 'firetruck', 'kitten']\n"
     ]
    }
   ],
   "source": [
    "class Marsupial():\n",
    "    def _init_(self):\n",
    "        self.List= []\n",
    "    def put_in_pouch(self,item):\n",
    "        self.List.append(item)\n",
    "    def pouch_contents(self):\n",
    "        print(self.List)\n",
    "m = Marsupial()  \n",
    "m._init_()\n",
    "m.put_in_pouch('doll')\n",
    "m.put_in_pouch('firetruck')\n",
    "m.put_in_pouch('kitten')\n",
    "m.pouch_contents()\n",
    "        "
   ]
  },
  {
   "cell_type": "code",
   "execution_count": 8,
   "id": "95ec5f88",
   "metadata": {},
   "outputs": [
    {
     "name": "stdout",
     "output_type": "stream",
     "text": [
      "['doll', 'firetruck', 'kitten']\n"
     ]
    },
    {
     "ename": "TypeError",
     "evalue": "Kangaroo() takes no arguments",
     "output_type": "error",
     "traceback": [
      "\u001b[1;31m---------------------------------------------------------------------------\u001b[0m",
      "\u001b[1;31mTypeError\u001b[0m                                 Traceback (most recent call last)",
      "\u001b[1;32mC:\\Users\\HPSSD~1\\AppData\\Local\\Temp/ipykernel_16952/2750289429.py\u001b[0m in \u001b[0;36m<module>\u001b[1;34m\u001b[0m\n\u001b[0;32m     22\u001b[0m     \u001b[1;32mdef\u001b[0m \u001b[0m_str_\u001b[0m\u001b[1;33m(\u001b[0m\u001b[0mself\u001b[0m\u001b[1;33m)\u001b[0m\u001b[1;33m:\u001b[0m\u001b[1;33m\u001b[0m\u001b[1;33m\u001b[0m\u001b[0m\n\u001b[0;32m     23\u001b[0m         \u001b[1;32mreturn\u001b[0m \u001b[1;34m'I am a Kangaroo and I am located at coordinates({},{})'\u001b[0m\u001b[1;33m.\u001b[0m\u001b[0mformat\u001b[0m\u001b[1;33m(\u001b[0m\u001b[0mself\u001b[0m\u001b[1;33m.\u001b[0m\u001b[0ma\u001b[0m\u001b[1;33m,\u001b[0m\u001b[0mself\u001b[0m\u001b[1;33m.\u001b[0m\u001b[0mb\u001b[0m\u001b[1;33m)\u001b[0m\u001b[1;33m\u001b[0m\u001b[1;33m\u001b[0m\u001b[0m\n\u001b[1;32m---> 24\u001b[1;33m \u001b[0mk\u001b[0m\u001b[1;33m=\u001b[0m \u001b[0mKangaroo\u001b[0m\u001b[1;33m(\u001b[0m\u001b[1;36m0\u001b[0m\u001b[1;33m,\u001b[0m\u001b[1;36m0\u001b[0m\u001b[1;33m)\u001b[0m\u001b[1;33m\u001b[0m\u001b[1;33m\u001b[0m\u001b[0m\n\u001b[0m\u001b[0;32m     25\u001b[0m \u001b[0mprint\u001b[0m\u001b[1;33m(\u001b[0m\u001b[0mk\u001b[0m\u001b[1;33m)\u001b[0m\u001b[1;33m\u001b[0m\u001b[1;33m\u001b[0m\u001b[0m\n\u001b[0;32m     26\u001b[0m \u001b[1;33m\u001b[0m\u001b[0m\n",
      "\u001b[1;31mTypeError\u001b[0m: Kangaroo() takes no arguments"
     ]
    }
   ],
   "source": [
    "class Marsupial():\n",
    "    def _init_(self):\n",
    "        self.List= []\n",
    "    def put_in_pouch(self,item):\n",
    "        self.List.append(item)\n",
    "    def pouch_contents(self):\n",
    "        print(self.List)\n",
    "m = Marsupial()  \n",
    "m._init_()\n",
    "m.put_in_pouch('doll')\n",
    "m.put_in_pouch('firetruck')\n",
    "m.put_in_pouch('kitten')\n",
    "m.pouch_contents()\n",
    "class Kangaroo(Marsupial):\n",
    "    def _init_(self,ay=0,by=0):\n",
    "        Marsupial._init_(self)\n",
    "        self.a=ay\n",
    "        self.b=by\n",
    "    def jump(self,da,db):\n",
    "        self.a+=da\n",
    "        self.b+=db\n",
    "    def _str_(self):\n",
    "        return 'I am a Kangaroo and I am located at coordinates({},{})'.format(self.a,self.b)\n",
    "k= Kangaroo(0,0)\n",
    "print(k)\n",
    "        "
   ]
  },
  {
   "cell_type": "code",
   "execution_count": 3,
   "id": "a9124631",
   "metadata": {},
   "outputs": [
    {
     "ename": "NameError",
     "evalue": "name 'k' is not defined",
     "output_type": "error",
     "traceback": [
      "\u001b[1;31m---------------------------------------------------------------------------\u001b[0m",
      "\u001b[1;31mNameError\u001b[0m                                 Traceback (most recent call last)",
      "\u001b[1;32mC:\\Users\\HPSSD~1\\AppData\\Local\\Temp/ipykernel_16952/373999730.py\u001b[0m in \u001b[0;36m<module>\u001b[1;34m\u001b[0m\n\u001b[1;32m----> 1\u001b[1;33m \u001b[0mk\u001b[0m\u001b[1;33m.\u001b[0m\u001b[0m_init_\u001b[0m\u001b[1;33m(\u001b[0m\u001b[1;33m)\u001b[0m\u001b[1;33m\u001b[0m\u001b[1;33m\u001b[0m\u001b[0m\n\u001b[0m\u001b[0;32m      2\u001b[0m \u001b[0mk\u001b[0m\u001b[1;33m.\u001b[0m\u001b[0mput_in_pouch\u001b[0m\u001b[1;33m(\u001b[0m\u001b[1;34m'dolls'\u001b[0m\u001b[1;33m)\u001b[0m\u001b[1;33m\u001b[0m\u001b[1;33m\u001b[0m\u001b[0m\n\u001b[0;32m      3\u001b[0m \u001b[0mk\u001b[0m\u001b[1;33m.\u001b[0m\u001b[0mput_in_pouch\u001b[0m\u001b[1;33m(\u001b[0m\u001b[1;34m'firetruck'\u001b[0m\u001b[1;33m)\u001b[0m\u001b[1;33m\u001b[0m\u001b[1;33m\u001b[0m\u001b[0m\n\u001b[0;32m      4\u001b[0m \u001b[0mk\u001b[0m\u001b[1;33m.\u001b[0m\u001b[0mput_in_pouch\u001b[0m\u001b[1;33m(\u001b[0m\u001b[1;34m'kitten'\u001b[0m\u001b[1;33m)\u001b[0m\u001b[1;33m\u001b[0m\u001b[1;33m\u001b[0m\u001b[0m\n\u001b[0;32m      5\u001b[0m \u001b[0mk\u001b[0m\u001b[1;33m.\u001b[0m\u001b[0mpouch_contents\u001b[0m\u001b[1;33m(\u001b[0m\u001b[1;33m)\u001b[0m\u001b[1;33m\u001b[0m\u001b[1;33m\u001b[0m\u001b[0m\n",
      "\u001b[1;31mNameError\u001b[0m: name 'k' is not defined"
     ]
    }
   ],
   "source": [
    "k._init_()\n",
    "k.put_in_pouch('dolls')\n",
    "k.put_in_pouch('firetruck')\n",
    "k.put_in_pouch('kitten')\n",
    "k.pouch_contents()"
   ]
  },
  {
   "cell_type": "code",
   "execution_count": 13,
   "id": "2f859b73",
   "metadata": {},
   "outputs": [
    {
     "ename": "NameError",
     "evalue": "name 'k' is not defined",
     "output_type": "error",
     "traceback": [
      "\u001b[1;31m---------------------------------------------------------------------------\u001b[0m",
      "\u001b[1;31mNameError\u001b[0m                                 Traceback (most recent call last)",
      "\u001b[1;32mC:\\Users\\HPSSD~1\\AppData\\Local\\Temp/ipykernel_20284/493648393.py\u001b[0m in \u001b[0;36m<module>\u001b[1;34m\u001b[0m\n\u001b[1;32m----> 1\u001b[1;33m \u001b[0mk\u001b[0m\u001b[1;33m.\u001b[0m\u001b[0mjump\u001b[0m\u001b[1;33m(\u001b[0m\u001b[1;36m1\u001b[0m\u001b[1;33m,\u001b[0m\u001b[1;36m0\u001b[0m\u001b[1;33m)\u001b[0m\u001b[1;33m\u001b[0m\u001b[1;33m\u001b[0m\u001b[0m\n\u001b[0m\u001b[0;32m      2\u001b[0m \u001b[0mk\u001b[0m\u001b[1;33m.\u001b[0m\u001b[0mjump\u001b[0m\u001b[1;33m(\u001b[0m\u001b[1;36m1\u001b[0m\u001b[1;33m,\u001b[0m\u001b[1;36m0\u001b[0m\u001b[1;33m)\u001b[0m\u001b[1;33m\u001b[0m\u001b[1;33m\u001b[0m\u001b[0m\n\u001b[0;32m      3\u001b[0m \u001b[0mk\u001b[0m\u001b[1;33m.\u001b[0m\u001b[0mjump\u001b[0m\u001b[1;33m(\u001b[0m\u001b[1;36m1\u001b[0m\u001b[1;33m,\u001b[0m\u001b[1;36m0\u001b[0m\u001b[1;33m)\u001b[0m\u001b[1;33m\u001b[0m\u001b[1;33m\u001b[0m\u001b[0m\n\u001b[0;32m      4\u001b[0m \u001b[0mprint\u001b[0m\u001b[1;33m(\u001b[0m\u001b[0mk\u001b[0m\u001b[1;33m)\u001b[0m\u001b[1;33m\u001b[0m\u001b[1;33m\u001b[0m\u001b[0m\n",
      "\u001b[1;31mNameError\u001b[0m: name 'k' is not defined"
     ]
    }
   ],
   "source": [
    "k.jump(1,0)\n",
    "k.jump(1,0)\n",
    "k.jump(1,0)\n",
    "print(k)"
   ]
  },
  {
   "cell_type": "markdown",
   "id": "a52538cd",
   "metadata": {},
   "source": [
    "# Question 4\n",
    "Write function collatz() that takes a positive integer x as input and prints the\n",
    "Collatz sequence starting at x. A Collatz sequence is obtained by repeatedly applying\n",
    "this rule to the previous number x in the sequence:\n",
    "x = {\n",
    "𝑥/2 𝑖𝑓 𝑥 𝑖𝑠 𝑒𝑣𝑒𝑛\n",
    "3𝑥 + 1 𝑖𝑓 𝑥 𝑖𝑠 𝑜𝑑𝑑\n",
    "Your function should stop when the sequence gets to number 1. Your\n",
    "implementation must be recursive, without any loops."
   ]
  },
  {
   "cell_type": "code",
   "execution_count": 1,
   "id": "3883387b",
   "metadata": {},
   "outputs": [
    {
     "name": "stdout",
     "output_type": "stream",
     "text": [
      "1\n"
     ]
    }
   ],
   "source": [
    "def collatz(number):\n",
    "    if number==1:\n",
    "        print(1)\n",
    "    elif number%2==0:\n",
    "        print(number)\n",
    "        number=number/2\n",
    "        collatz(number)\n",
    "    elif number<1:\n",
    "        print('Enter a positive Integer')\n",
    "        \n",
    "    else:\n",
    "        print(number)\n",
    "        number=number*3+1\n",
    "        collatz(number)\n",
    "        \n",
    "collatz(1)\n",
    "\n",
    "    "
   ]
  },
  {
   "cell_type": "code",
   "execution_count": 2,
   "id": "12d0946b",
   "metadata": {},
   "outputs": [
    {
     "name": "stdout",
     "output_type": "stream",
     "text": [
      "10\n",
      "5.0\n",
      "16.0\n",
      "8.0\n",
      "4.0\n",
      "2.0\n",
      "1\n"
     ]
    }
   ],
   "source": [
    "collatz(10)"
   ]
  },
  {
   "cell_type": "markdown",
   "id": "879aed0c",
   "metadata": {},
   "source": [
    "# Question 5\n",
    "Write a recursive method binary() that takes a non-negative\n",
    "integer n and prints the binary representation of integer n.\n",
    ">>> binary(0)\n",
    "0\n",
    ">>> binary(1)\n",
    "1\n",
    ">>> binary(3)\n",
    "11\n",
    ">>> binary(9)\n",
    "1001\n"
   ]
  },
  {
   "cell_type": "code",
   "execution_count": 3,
   "id": "c884aaf0",
   "metadata": {},
   "outputs": [
    {
     "name": "stdout",
     "output_type": "stream",
     "text": [
      "0\n"
     ]
    }
   ],
   "source": [
    "def binary(number):\n",
    "    if number>=1:\n",
    "        if number//2!=0:\n",
    "            binary(number//2)\n",
    "        print(number%2)\n",
    "    elif number==0:\n",
    "        print(0)\n",
    "    else:\n",
    "        print('Enter a positive integer')\n",
    "binary(0)            \n",
    "            "
   ]
  },
  {
   "cell_type": "code",
   "execution_count": 4,
   "id": "24c4b27c",
   "metadata": {},
   "outputs": [
    {
     "name": "stdout",
     "output_type": "stream",
     "text": [
      "1\n"
     ]
    }
   ],
   "source": [
    "binary(1)"
   ]
  },
  {
   "cell_type": "code",
   "execution_count": 6,
   "id": "bb46ff4e",
   "metadata": {},
   "outputs": [
    {
     "name": "stdout",
     "output_type": "stream",
     "text": [
      "1\n",
      "1\n"
     ]
    }
   ],
   "source": [
    "binary(3)"
   ]
  },
  {
   "cell_type": "code",
   "execution_count": 7,
   "id": "43171e92",
   "metadata": {},
   "outputs": [
    {
     "name": "stdout",
     "output_type": "stream",
     "text": [
      "1\n",
      "0\n",
      "0\n",
      "1\n"
     ]
    }
   ],
   "source": [
    "binary(9)\n"
   ]
  },
  {
   "cell_type": "code",
   "execution_count": 11,
   "id": "28d39c39",
   "metadata": {},
   "outputs": [
    {
     "name": "stdout",
     "output_type": "stream",
     "text": [
      "W3C Mission\n",
      "\n",
      "\t\n",
      "Principles\n",
      "\n",
      " \n",
      "\n",
      "\n",
      "\n",
      "\n",
      "\n"
     ]
    }
   ],
   "source": [
    "from html.parser import HTMLParser                    \n",
    "class  HeadingParser(HTMLParser):\n",
    "    man=0\n",
    "    a=0\n",
    "    def handle_starttag(self,tag,attrs):\n",
    "        if tag in ['h1','h2','h3']:\n",
    "            self.man = 1\n",
    "    def handle_data(self,data):\n",
    "        if (self.check == 1):\n",
    "            print(data.rjust(len(data) + self.a), end = '\\n')\n",
    "        def handle_endtag(self,tag):\n",
    "            if tag in ['h1','h2','h3']:\n",
    "                self.man = 0\n",
    "                self.a +=1\n",
    "            \n",
    "           \n",
    "    \n",
    "             \n",
    "file = open('w3c.html')\n",
    "content = file.read()\n",
    "file.close()\n",
    "hp = HeadingParser()\n",
    "hp.feed(content)"
   ]
  },
  {
   "cell_type": "markdown",
   "id": "8b242a88",
   "metadata": {},
   "source": [
    "# Question 8\n",
    "Write SQL queries on the below database table that return:\n",
    "a) All the temperature data.\n",
    "b) All the cities, but without repetition.\n",
    "c) All the records for India.\n",
    "d) All the Fall records."
   ]
  },
  {
   "cell_type": "code",
   "execution_count": 1,
   "id": "ff998f93",
   "metadata": {},
   "outputs": [
    {
     "data": {
      "text/plain": [
       "[('Fall', 569.0),\n",
       " ('Spring', 192.29999999999998),\n",
       " ('Summer', 1706.5),\n",
       " ('Winter', 230.1)]"
      ]
     },
     "execution_count": 1,
     "metadata": {},
     "output_type": "execute_result"
    }
   ],
   "source": [
    "import sqlite3\n",
    "connection = sqlite3.connect('cInfo.db')\n",
    "cur = connection.cursor()\n",
    "cur.execute(\"CREATE TABLE IF NOT EXISTS cityInfo (City text, Country text, Season text, Temperature double, Rainfall double)\")\n",
    "cur.execute(\"INSERT INTO cityInfo VALUES ('Mumbai', 'India', 'Winter', 24.8, 5.9), ('Mumbai','India', 'Spring', 28.4, 16.2), ('Mumbai','India', 'Summer', 27.9, 1549.4), ('Mumbai','India', 'Fall', 27.6, 346.0)\")\n",
    "cur.execute(\"INSERT INTO cityInfo VALUES ('London', 'United Kindom', 'Winter', 4.2, 207.7), ('London', 'United Kindom', 'Spring', 8.3, 169.6), ('London', 'United Kindom', 'Summer', 15.7, 157.0), ('London', 'United Kindom', 'Fall', 10.4, 218.5)\")\n",
    "cur.execute(\"INSERT INTO cityInfo VALUES ('Cairo', 'Egypt', 'Winter', 13.6, 16.5), ('Cairo', 'Egypt', 'Spring', 20.7, 6.5), ('Cairo', 'Egypt', 'Summer', 27.7, 0.1), ('Cairo', 'Egypt', 'Fall', 22.2, 4.5)\")\n",
    "\n",
    "cur.execute('SELECT * FROM cityInfo')\n",
    "cur.fetchall()\n",
    "cur.execute('SELECT DISTINCT(City) FROM cityInfo')\n",
    "cur.fetchall()\n",
    "cur.execute('SELECT * FROM cityInfo where Country = \"India\"')\n",
    "cur.fetchall()\n",
    "cur.execute('SELECT * FROM cityInfo where Country = \"India\"')\n",
    "cur.fetchall()\n",
    "cur.execute('SELECT * from cityInfo where Season=\"Fall\"')\n",
    "cur.fetchall()\n",
    "cur.execute('SELECT City,Country,Season, AVG(Rainfall) FROM cityInfo GROUP BY City, Country, Season having AVG(Rainfall)>200 and AVG(Rainfall)<400 ')\n",
    "cur.fetchall()\n",
    "cur.execute('SELECT City, Country, AVG(Temperature) FROM cityInfo where Temperature > 20 GROUP BY City, Country HAVING AVG(Temperature) > 20 ORDER By Temperature ASC')\n",
    "cur.fetchall()\n",
    "cur.execute('SELECT SUM(Rainfall) FROM cityInfo WHERE City = \"Cairo\"')\n",
    "cur.fetchall()\n",
    "cur.execute('SELECT Season, SUM(Rainfall) FROM cityInfo GROUP BY Season')\n",
    "cur.fetchall()\n"
   ]
  },
  {
   "cell_type": "markdown",
   "id": "ead06c09",
   "metadata": {},
   "source": [
    "# Question 9\n",
    ". Suppose list words is defined as follows:\n",
    ">>> words = ['The', 'quick', 'brown', 'fox', 'jumps', 'over',\n",
    "'the', 'lazy', 'dog']\n",
    "Write list comprehension expressions that use list words and generate the following\n",
    "lists:\n",
    "a) ['THE', 'QUICK', 'BROWN', 'FOX', 'JUMPS', 'OVER', 'THE',\n",
    "'LAZY', 'DOG']\n",
    "b) ['the', 'quick', 'brown', 'fox', 'jumps', 'over', 'the',\n",
    "'lazy', 'dog']\n",
    "c) [3, 5, 5, 3, 5, 4, 3, 4, 3] (the list of lengths of words in list\n",
    "words).\n",
    "d) [['THE', 'the', 3], ['QUICK', 'quick', 5], ['BROWN',\n",
    "'brown', 5], ['FOX', 'fox', 3], ['JUMPS', 'jumps', 5],\n",
    "['OVER', 'over', 4], ['THE', 'the', 3], ['LAZY', 'lazy',\n",
    "4], ['DOG', 'dog', 3]] (the list containing a list for every word of list\n",
    "words, where each list contains the word in uppercase and lowercase and the\n",
    "length of the word.)\n",
    "e) ['The', 'quick', 'brown', 'fox', 'jumps', 'over', 'the',\n",
    "'lazy', 'dog'] (the list of words in list words containing 4 or more\n",
    "characters.)"
   ]
  },
  {
   "cell_type": "code",
   "execution_count": 16,
   "id": "b6fa9ff8",
   "metadata": {},
   "outputs": [
    {
     "name": "stdout",
     "output_type": "stream",
     "text": [
      "['THE', 'QUICK', 'BROWN', 'FOX', 'JUMPS', 'OVER', 'THE', 'LAZY', 'DOG']\n",
      "['the', 'quick', 'brown', 'fox', 'jumps', 'over', 'the', 'lazy', 'dog']\n",
      "[3, 5, 5, 3, 5, 4, 3, 4, 3]\n",
      "['quick', 'brown', 'jumps', 'over', 'lazy']\n",
      "9\n",
      "[]\n"
     ]
    }
   ],
   "source": [
    "words = ['The', 'quick', 'brown', 'fox', 'jumps', 'over', \n",
    "'the', 'lazy', 'dog']\n",
    "\n",
    "\n",
    "lst = [x.upper() for x in words] \n",
    "print(lst)\n",
    "lst1 = [x.lower() for x in words]\n",
    "print(lst1)\n",
    "number =[len(word) for word in words]\n",
    "print(number)\n",
    "result = [word for word in words if len(word) >=4]\n",
    "print(result)\n",
    "  \n",
    "output = []\n",
    "results=len(words)\n",
    "print(results)\n",
    "for word in words:\n",
    "    final.append(word.upper())\n",
    "    final.append(word.lower())\n",
    "    final.append(len(word))\n",
    "print(output)"
   ]
  },
  {
   "cell_type": "code",
   "execution_count": null,
   "id": "6282a0e0",
   "metadata": {},
   "outputs": [],
   "source": []
  }
 ],
 "metadata": {
  "kernelspec": {
   "display_name": "Python 3 (ipykernel)",
   "language": "python",
   "name": "python3"
  },
  "language_info": {
   "codemirror_mode": {
    "name": "ipython",
    "version": 3
   },
   "file_extension": ".py",
   "mimetype": "text/x-python",
   "name": "python",
   "nbconvert_exporter": "python",
   "pygments_lexer": "ipython3",
   "version": "3.9.7"
  }
 },
 "nbformat": 4,
 "nbformat_minor": 5
}
